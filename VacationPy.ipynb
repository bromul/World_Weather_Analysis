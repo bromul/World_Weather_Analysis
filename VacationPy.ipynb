{
 "cells": [
  {
   "cell_type": "code",
   "execution_count": 1,
   "metadata": {},
   "outputs": [],
   "source": [
    "# Import dependencies\n",
    "import pandas as pd \n",
    "import gmaps \n",
    "import requests\n",
    "\n",
    "# Import API key \n",
    "from config import g_key"
   ]
  },
  {
   "cell_type": "code",
   "execution_count": 2,
   "metadata": {},
   "outputs": [
    {
     "output_type": "execute_result",
     "data": {
      "text/plain": [
       "   City_ID        City Country                 Date      Lat       Lng  \\\n",
       "0        0     Mataura      NZ  2021-04-15 19:08:35 -46.1927  168.8643   \n",
       "1        1  Butaritari      KI  2021-04-15 19:11:19   3.0707  172.7902   \n",
       "2        2     Ushuaia      AR  2021-04-15 19:10:14 -54.8000  -68.3000   \n",
       "3        3    Hermanus      ZA  2021-04-15 19:11:19 -34.4187   19.2345   \n",
       "4        4       Kribi      CM  2021-04-15 19:11:19   2.9500    9.9167   \n",
       "\n",
       "   Max Temp  Humidity  Cloudiness  Wind Speed  \n",
       "0     50.00        95          48        3.00  \n",
       "1     82.08        74         100       10.33  \n",
       "2     53.60        32          20        5.75  \n",
       "3     66.00        74          15        7.00  \n",
       "4     81.07        81          78        7.52  "
      ],
      "text/html": "<div>\n<style scoped>\n    .dataframe tbody tr th:only-of-type {\n        vertical-align: middle;\n    }\n\n    .dataframe tbody tr th {\n        vertical-align: top;\n    }\n\n    .dataframe thead th {\n        text-align: right;\n    }\n</style>\n<table border=\"1\" class=\"dataframe\">\n  <thead>\n    <tr style=\"text-align: right;\">\n      <th></th>\n      <th>City_ID</th>\n      <th>City</th>\n      <th>Country</th>\n      <th>Date</th>\n      <th>Lat</th>\n      <th>Lng</th>\n      <th>Max Temp</th>\n      <th>Humidity</th>\n      <th>Cloudiness</th>\n      <th>Wind Speed</th>\n    </tr>\n  </thead>\n  <tbody>\n    <tr>\n      <th>0</th>\n      <td>0</td>\n      <td>Mataura</td>\n      <td>NZ</td>\n      <td>2021-04-15 19:08:35</td>\n      <td>-46.1927</td>\n      <td>168.8643</td>\n      <td>50.00</td>\n      <td>95</td>\n      <td>48</td>\n      <td>3.00</td>\n    </tr>\n    <tr>\n      <th>1</th>\n      <td>1</td>\n      <td>Butaritari</td>\n      <td>KI</td>\n      <td>2021-04-15 19:11:19</td>\n      <td>3.0707</td>\n      <td>172.7902</td>\n      <td>82.08</td>\n      <td>74</td>\n      <td>100</td>\n      <td>10.33</td>\n    </tr>\n    <tr>\n      <th>2</th>\n      <td>2</td>\n      <td>Ushuaia</td>\n      <td>AR</td>\n      <td>2021-04-15 19:10:14</td>\n      <td>-54.8000</td>\n      <td>-68.3000</td>\n      <td>53.60</td>\n      <td>32</td>\n      <td>20</td>\n      <td>5.75</td>\n    </tr>\n    <tr>\n      <th>3</th>\n      <td>3</td>\n      <td>Hermanus</td>\n      <td>ZA</td>\n      <td>2021-04-15 19:11:19</td>\n      <td>-34.4187</td>\n      <td>19.2345</td>\n      <td>66.00</td>\n      <td>74</td>\n      <td>15</td>\n      <td>7.00</td>\n    </tr>\n    <tr>\n      <th>4</th>\n      <td>4</td>\n      <td>Kribi</td>\n      <td>CM</td>\n      <td>2021-04-15 19:11:19</td>\n      <td>2.9500</td>\n      <td>9.9167</td>\n      <td>81.07</td>\n      <td>81</td>\n      <td>78</td>\n      <td>7.52</td>\n    </tr>\n  </tbody>\n</table>\n</div>"
     },
     "metadata": {},
     "execution_count": 2
    }
   ],
   "source": [
    "# Store cities.csv into a df\n",
    "city_data_df = pd.read_csv('weather_data/cities.csv')\n",
    "city_data_df.head()"
   ]
  },
  {
   "cell_type": "code",
   "execution_count": 3,
   "metadata": {},
   "outputs": [
    {
     "output_type": "execute_result",
     "data": {
      "text/plain": [
       "City_ID         int64\n",
       "City           object\n",
       "Country        object\n",
       "Date           object\n",
       "Lat           float64\n",
       "Lng           float64\n",
       "Max Temp      float64\n",
       "Humidity        int64\n",
       "Cloudiness      int64\n",
       "Wind Speed    float64\n",
       "dtype: object"
      ]
     },
     "metadata": {},
     "execution_count": 3
    }
   ],
   "source": [
    "# Get data types\n",
    "city_data_df.dtypes"
   ]
  },
  {
   "cell_type": "code",
   "execution_count": 4,
   "metadata": {},
   "outputs": [],
   "source": [
    "# Configure gmaps to use your Google API key\n",
    "gmaps.configure(api_key = g_key)"
   ]
  },
  {
   "cell_type": "code",
   "execution_count": 5,
   "metadata": {},
   "outputs": [
    {
     "output_type": "display_data",
     "data": {
      "text/plain": "Figure(layout=FigureLayout(height='420px'))",
      "application/vnd.jupyter.widget-view+json": {
       "version_major": 2,
       "version_minor": 0,
       "model_id": "3b55aacfb4bf4c8e905efd8f0d9cbc38"
      }
     },
     "metadata": {}
    }
   ],
   "source": [
    "# Heatmap of temperature \n",
    "\n",
    "# Get the latitude and longitude\n",
    "locations = city_data_df[['Lat', 'Lng']]\n",
    "\n",
    "# Get the max temp\n",
    "max_temp = city_data_df['Max Temp']\n",
    "\n",
    "# Assign the figure variable\n",
    "fig = gmaps.figure(center = (30.0, 31.0), zoom_level=1.5)\n",
    "\n",
    "# Assign the heatmap variable\n",
    "heat_layer = gmaps.heatmap_layer(locations, weights = [max(temp, 0) for temp in max_temp], dissipating=False, max_intensity=300, point_radius=4)\n",
    "\n",
    "# Add the heatmap layer\n",
    "fig.add_layer(heat_layer)\n",
    "\n",
    "# Call the figure to plot the data\n",
    "fig"
   ]
  },
  {
   "cell_type": "code",
   "execution_count": 6,
   "metadata": {},
   "outputs": [
    {
     "output_type": "display_data",
     "data": {
      "text/plain": "Figure(layout=FigureLayout(height='420px'))",
      "application/vnd.jupyter.widget-view+json": {
       "version_major": 2,
       "version_minor": 0,
       "model_id": "4b63b2ef51254b0680ae67407a96a54a"
      }
     },
     "metadata": {}
    }
   ],
   "source": [
    "# Heatmap of percent humidity\n",
    "locations = city_data_df[['Lat', 'Lng']]\n",
    "humidity = city_data_df['Humidity']\n",
    "fig = gmaps.figure(center = (30.0, 31.0), zoom_level=1.5)\n",
    "heat_layer = gmaps.heatmap_layer(locations,\n",
    "                                 weights = humidity,\n",
    "                                 dissipating=False,\n",
    "                                 max_intensity=300,\n",
    "                                 point_radius=4)\n",
    "\n",
    "fig.add_layer(heat_layer)\n",
    "\n",
    "# Call figure\n",
    "fig"
   ]
  },
  {
   "cell_type": "code",
   "execution_count": 7,
   "metadata": {},
   "outputs": [
    {
     "output_type": "display_data",
     "data": {
      "text/plain": "Figure(layout=FigureLayout(height='420px'))",
      "application/vnd.jupyter.widget-view+json": {
       "version_major": 2,
       "version_minor": 0,
       "model_id": "d302b08f0d9a4afea350e3087fa7fc49"
      }
     },
     "metadata": {}
    }
   ],
   "source": [
    "# Heatmap of percent cloudiness\n",
    "locations = city_data_df[['Lat', 'Lng']]\n",
    "clouds = city_data_df['Cloudiness']\n",
    "fig = gmaps.figure(center=(30.0, 31.0), zoom_level=1.5)\n",
    "heat_layer = gmaps.heatmap_layer(locations,\n",
    "                                 weights=clouds,\n",
    "                                 dissipating=False,\n",
    "                                 max_intensity=300,\n",
    "                                 point_radius=4)\n",
    "\n",
    "fig.add_layer(heat_layer)\n",
    "\n",
    "# Call figure\n",
    "fig"
   ]
  },
  {
   "cell_type": "code",
   "execution_count": 8,
   "metadata": {},
   "outputs": [
    {
     "output_type": "display_data",
     "data": {
      "text/plain": "Figure(layout=FigureLayout(height='420px'))",
      "application/vnd.jupyter.widget-view+json": {
       "version_major": 2,
       "version_minor": 0,
       "model_id": "3f3d3a2a58774338868f5182a6f29f1c"
      }
     },
     "metadata": {}
    }
   ],
   "source": [
    "# Heatmap of wind speed\n",
    "locations = city_data_df[['Lat', 'Lng']]\n",
    "wind = city_data_df['Wind Speed']\n",
    "fig = gmaps.figure(center=(30.0, 31.0), zoom_level=1.5)\n",
    "heat_layer = gmaps.heatmap_layer(locations,\n",
    "                                 weights=wind,\n",
    "                                 dissipating=False,\n",
    "                                 max_intensity=300,\n",
    "                                 point_radius=4)\n",
    "\n",
    "fig.add_layer(heat_layer)\n",
    "\n",
    "# Call figure\n",
    "fig"
   ]
  },
  {
   "cell_type": "code",
   "execution_count": 9,
   "metadata": {},
   "outputs": [],
   "source": [
    "# Ask the customer to add a minimum and maximum temp value\n",
    "min_temp = float(input('Minimum temperature you would like for your trip?'))\n",
    "max_temp = float(input('Maximum temperature you would like for your trip?'))"
   ]
  },
  {
   "cell_type": "code",
   "execution_count": 10,
   "metadata": {},
   "outputs": [
    {
     "output_type": "execute_result",
     "data": {
      "text/plain": [
       "    City_ID             City Country                 Date      Lat       Lng  \\\n",
       "1         1       Butaritari      KI  2021-04-15 19:11:19   3.0707  172.7902   \n",
       "4         4            Kribi      CM  2021-04-15 19:11:19   2.9500    9.9167   \n",
       "13       13      Meadow Lake      US  2021-04-15 19:11:22  34.8014 -106.5436   \n",
       "16       16          Jamkhed      IN  2021-04-15 19:11:23  18.7362   75.3121   \n",
       "18       18     Puerto Ayora      EC  2021-04-15 19:11:11  -0.7393  -90.3518   \n",
       "20       20        Mahebourg      MU  2021-04-15 19:11:24 -20.4081   57.7000   \n",
       "21       21    Mar Del Plata      AR  2021-04-15 19:11:24 -38.0023  -57.5575   \n",
       "22       22          Samarai      PG  2021-04-15 19:11:24 -10.6167  150.6667   \n",
       "26       26          Rikitea      PF  2021-04-15 19:11:09 -23.1203 -134.9692   \n",
       "29       29  Arraial Do Cabo      BR  2021-04-15 19:08:43 -22.9661  -42.0278   \n",
       "\n",
       "    Max Temp  Humidity  Cloudiness  Wind Speed  \n",
       "1      82.08        74         100       10.33  \n",
       "4      81.07        81          78        7.52  \n",
       "13     75.00        13          20       12.66  \n",
       "16     83.62        27           0       15.39  \n",
       "18     81.00        89          75        8.05  \n",
       "20     77.00        88          75        5.75  \n",
       "21     75.20        57          40       12.66  \n",
       "22     79.74        81          99        2.15  \n",
       "26     77.86        74          58        7.63  \n",
       "29     80.60        65          20       11.50  "
      ],
      "text/html": "<div>\n<style scoped>\n    .dataframe tbody tr th:only-of-type {\n        vertical-align: middle;\n    }\n\n    .dataframe tbody tr th {\n        vertical-align: top;\n    }\n\n    .dataframe thead th {\n        text-align: right;\n    }\n</style>\n<table border=\"1\" class=\"dataframe\">\n  <thead>\n    <tr style=\"text-align: right;\">\n      <th></th>\n      <th>City_ID</th>\n      <th>City</th>\n      <th>Country</th>\n      <th>Date</th>\n      <th>Lat</th>\n      <th>Lng</th>\n      <th>Max Temp</th>\n      <th>Humidity</th>\n      <th>Cloudiness</th>\n      <th>Wind Speed</th>\n    </tr>\n  </thead>\n  <tbody>\n    <tr>\n      <th>1</th>\n      <td>1</td>\n      <td>Butaritari</td>\n      <td>KI</td>\n      <td>2021-04-15 19:11:19</td>\n      <td>3.0707</td>\n      <td>172.7902</td>\n      <td>82.08</td>\n      <td>74</td>\n      <td>100</td>\n      <td>10.33</td>\n    </tr>\n    <tr>\n      <th>4</th>\n      <td>4</td>\n      <td>Kribi</td>\n      <td>CM</td>\n      <td>2021-04-15 19:11:19</td>\n      <td>2.9500</td>\n      <td>9.9167</td>\n      <td>81.07</td>\n      <td>81</td>\n      <td>78</td>\n      <td>7.52</td>\n    </tr>\n    <tr>\n      <th>13</th>\n      <td>13</td>\n      <td>Meadow Lake</td>\n      <td>US</td>\n      <td>2021-04-15 19:11:22</td>\n      <td>34.8014</td>\n      <td>-106.5436</td>\n      <td>75.00</td>\n      <td>13</td>\n      <td>20</td>\n      <td>12.66</td>\n    </tr>\n    <tr>\n      <th>16</th>\n      <td>16</td>\n      <td>Jamkhed</td>\n      <td>IN</td>\n      <td>2021-04-15 19:11:23</td>\n      <td>18.7362</td>\n      <td>75.3121</td>\n      <td>83.62</td>\n      <td>27</td>\n      <td>0</td>\n      <td>15.39</td>\n    </tr>\n    <tr>\n      <th>18</th>\n      <td>18</td>\n      <td>Puerto Ayora</td>\n      <td>EC</td>\n      <td>2021-04-15 19:11:11</td>\n      <td>-0.7393</td>\n      <td>-90.3518</td>\n      <td>81.00</td>\n      <td>89</td>\n      <td>75</td>\n      <td>8.05</td>\n    </tr>\n    <tr>\n      <th>20</th>\n      <td>20</td>\n      <td>Mahebourg</td>\n      <td>MU</td>\n      <td>2021-04-15 19:11:24</td>\n      <td>-20.4081</td>\n      <td>57.7000</td>\n      <td>77.00</td>\n      <td>88</td>\n      <td>75</td>\n      <td>5.75</td>\n    </tr>\n    <tr>\n      <th>21</th>\n      <td>21</td>\n      <td>Mar Del Plata</td>\n      <td>AR</td>\n      <td>2021-04-15 19:11:24</td>\n      <td>-38.0023</td>\n      <td>-57.5575</td>\n      <td>75.20</td>\n      <td>57</td>\n      <td>40</td>\n      <td>12.66</td>\n    </tr>\n    <tr>\n      <th>22</th>\n      <td>22</td>\n      <td>Samarai</td>\n      <td>PG</td>\n      <td>2021-04-15 19:11:24</td>\n      <td>-10.6167</td>\n      <td>150.6667</td>\n      <td>79.74</td>\n      <td>81</td>\n      <td>99</td>\n      <td>2.15</td>\n    </tr>\n    <tr>\n      <th>26</th>\n      <td>26</td>\n      <td>Rikitea</td>\n      <td>PF</td>\n      <td>2021-04-15 19:11:09</td>\n      <td>-23.1203</td>\n      <td>-134.9692</td>\n      <td>77.86</td>\n      <td>74</td>\n      <td>58</td>\n      <td>7.63</td>\n    </tr>\n    <tr>\n      <th>29</th>\n      <td>29</td>\n      <td>Arraial Do Cabo</td>\n      <td>BR</td>\n      <td>2021-04-15 19:08:43</td>\n      <td>-22.9661</td>\n      <td>-42.0278</td>\n      <td>80.60</td>\n      <td>65</td>\n      <td>20</td>\n      <td>11.50</td>\n    </tr>\n  </tbody>\n</table>\n</div>"
     },
     "metadata": {},
     "execution_count": 10
    }
   ],
   "source": [
    "# Filter the dataset to find the cities that fit the criteria\n",
    "preferred_cities_df = city_data_df.loc[(city_data_df['Max Temp'] <= max_temp) & (city_data_df['Max Temp'] >= min_temp)].dropna()\n",
    "\n",
    "preferred_cities_df.head(10)"
   ]
  },
  {
   "cell_type": "code",
   "execution_count": 11,
   "metadata": {},
   "outputs": [
    {
     "output_type": "execute_result",
     "data": {
      "text/plain": [
       "City_ID       187\n",
       "City          187\n",
       "Country       187\n",
       "Date          187\n",
       "Lat           187\n",
       "Lng           187\n",
       "Max Temp      187\n",
       "Humidity      187\n",
       "Cloudiness    187\n",
       "Wind Speed    187\n",
       "dtype: int64"
      ]
     },
     "metadata": {},
     "execution_count": 11
    }
   ],
   "source": [
    "preferred_cities_df.count()"
   ]
  },
  {
   "cell_type": "code",
   "execution_count": 12,
   "metadata": {},
   "outputs": [
    {
     "output_type": "execute_result",
     "data": {
      "text/plain": [
       "               City Country  Max Temp      Lat       Lng Hotel Name\n",
       "1        Butaritari      KI     82.08   3.0707  172.7902           \n",
       "4             Kribi      CM     81.07   2.9500    9.9167           \n",
       "13      Meadow Lake      US     75.00  34.8014 -106.5436           \n",
       "16          Jamkhed      IN     83.62  18.7362   75.3121           \n",
       "18     Puerto Ayora      EC     81.00  -0.7393  -90.3518           \n",
       "20        Mahebourg      MU     77.00 -20.4081   57.7000           \n",
       "21    Mar Del Plata      AR     75.20 -38.0023  -57.5575           \n",
       "22          Samarai      PG     79.74 -10.6167  150.6667           \n",
       "26          Rikitea      PF     77.86 -23.1203 -134.9692           \n",
       "29  Arraial Do Cabo      BR     80.60 -22.9661  -42.0278           "
      ],
      "text/html": "<div>\n<style scoped>\n    .dataframe tbody tr th:only-of-type {\n        vertical-align: middle;\n    }\n\n    .dataframe tbody tr th {\n        vertical-align: top;\n    }\n\n    .dataframe thead th {\n        text-align: right;\n    }\n</style>\n<table border=\"1\" class=\"dataframe\">\n  <thead>\n    <tr style=\"text-align: right;\">\n      <th></th>\n      <th>City</th>\n      <th>Country</th>\n      <th>Max Temp</th>\n      <th>Lat</th>\n      <th>Lng</th>\n      <th>Hotel Name</th>\n    </tr>\n  </thead>\n  <tbody>\n    <tr>\n      <th>1</th>\n      <td>Butaritari</td>\n      <td>KI</td>\n      <td>82.08</td>\n      <td>3.0707</td>\n      <td>172.7902</td>\n      <td></td>\n    </tr>\n    <tr>\n      <th>4</th>\n      <td>Kribi</td>\n      <td>CM</td>\n      <td>81.07</td>\n      <td>2.9500</td>\n      <td>9.9167</td>\n      <td></td>\n    </tr>\n    <tr>\n      <th>13</th>\n      <td>Meadow Lake</td>\n      <td>US</td>\n      <td>75.00</td>\n      <td>34.8014</td>\n      <td>-106.5436</td>\n      <td></td>\n    </tr>\n    <tr>\n      <th>16</th>\n      <td>Jamkhed</td>\n      <td>IN</td>\n      <td>83.62</td>\n      <td>18.7362</td>\n      <td>75.3121</td>\n      <td></td>\n    </tr>\n    <tr>\n      <th>18</th>\n      <td>Puerto Ayora</td>\n      <td>EC</td>\n      <td>81.00</td>\n      <td>-0.7393</td>\n      <td>-90.3518</td>\n      <td></td>\n    </tr>\n    <tr>\n      <th>20</th>\n      <td>Mahebourg</td>\n      <td>MU</td>\n      <td>77.00</td>\n      <td>-20.4081</td>\n      <td>57.7000</td>\n      <td></td>\n    </tr>\n    <tr>\n      <th>21</th>\n      <td>Mar Del Plata</td>\n      <td>AR</td>\n      <td>75.20</td>\n      <td>-38.0023</td>\n      <td>-57.5575</td>\n      <td></td>\n    </tr>\n    <tr>\n      <th>22</th>\n      <td>Samarai</td>\n      <td>PG</td>\n      <td>79.74</td>\n      <td>-10.6167</td>\n      <td>150.6667</td>\n      <td></td>\n    </tr>\n    <tr>\n      <th>26</th>\n      <td>Rikitea</td>\n      <td>PF</td>\n      <td>77.86</td>\n      <td>-23.1203</td>\n      <td>-134.9692</td>\n      <td></td>\n    </tr>\n    <tr>\n      <th>29</th>\n      <td>Arraial Do Cabo</td>\n      <td>BR</td>\n      <td>80.60</td>\n      <td>-22.9661</td>\n      <td>-42.0278</td>\n      <td></td>\n    </tr>\n  </tbody>\n</table>\n</div>"
     },
     "metadata": {},
     "execution_count": 12
    }
   ],
   "source": [
    "# Create df to store hotel names along with city, country, max temp, and coordinates\n",
    "hotel_df = preferred_cities_df[['City','Country', 'Max Temp', 'Lat', 'Lng']].copy()\n",
    "hotel_df['Hotel Name'] = ''\n",
    "hotel_df.head(10)"
   ]
  },
  {
   "cell_type": "code",
   "execution_count": 13,
   "metadata": {},
   "outputs": [],
   "source": [
    "# Set parameters to search for a hotel\n",
    "params = {\n",
    "    'radius': 5000,\n",
    "    'type': 'lodging',\n",
    "    'key': g_key\n",
    "}"
   ]
  },
  {
   "cell_type": "code",
   "execution_count": 14,
   "metadata": {},
   "outputs": [
    {
     "output_type": "stream",
     "name": "stdout",
     "text": [
      "Hotel not found...skipping\n",
      "Hotel not found...skipping\n",
      "Hotel not found...skipping\n",
      "Hotel not found...skipping\n",
      "Hotel not found...skipping\n",
      "Hotel not found...skipping\n",
      "Hotel not found...skipping\n"
     ]
    }
   ],
   "source": [
    "# Iterate through the df\n",
    "for index, row in hotel_df.iterrows():\n",
    "\n",
    "    # Get the latitude and longitude\n",
    "    lat = row['Lat']\n",
    "    lng = row['Lng']\n",
    "\n",
    "    # Add the latitude and longitude to location key for the params dictionary\n",
    "    params['location'] = f'{lat}, {lng}'\n",
    "\n",
    "    #Use the search term: 'lodging' and our latitude and longitude\n",
    "    base_url = 'https://maps.googleapis.com/maps/api/place/nearbysearch/json'\n",
    "\n",
    "    # Make request and get the JSON data from the search\n",
    "    hotels = requests.get(base_url, params=params).json()\n",
    "\n",
    "    # Grab the first hotel from the results and store the name\n",
    "    try:\n",
    "        hotel_df.loc[index, 'Hotel Name'] = hotels['results'][0]['name']\n",
    "    except (IndexError):\n",
    "        print('Hotel not found...skipping')"
   ]
  },
  {
   "cell_type": "code",
   "execution_count": 15,
   "metadata": {},
   "outputs": [
    {
     "output_type": "execute_result",
     "data": {
      "text/plain": [
       "               City Country  Max Temp      Lat       Lng  \\\n",
       "1        Butaritari      KI     82.08   3.0707  172.7902   \n",
       "4             Kribi      CM     81.07   2.9500    9.9167   \n",
       "13      Meadow Lake      US     75.00  34.8014 -106.5436   \n",
       "16          Jamkhed      IN     83.62  18.7362   75.3121   \n",
       "18     Puerto Ayora      EC     81.00  -0.7393  -90.3518   \n",
       "20        Mahebourg      MU     77.00 -20.4081   57.7000   \n",
       "21    Mar Del Plata      AR     75.20 -38.0023  -57.5575   \n",
       "22          Samarai      PG     79.74 -10.6167  150.6667   \n",
       "26          Rikitea      PF     77.86 -23.1203 -134.9692   \n",
       "29  Arraial Do Cabo      BR     80.60 -22.9661  -42.0278   \n",
       "\n",
       "                            Hotel Name  \n",
       "1                   Isles Sunset Lodge  \n",
       "4                    Les Vagues bleues  \n",
       "13       JKL Inc. R.V Park and Storage  \n",
       "16             Beleshwar coffee center  \n",
       "18           Finch Bay Galapagos Hotel  \n",
       "20  Shandrani Beachcomber Resort & Spa  \n",
       "21            Gran Hotel Mar del Plata  \n",
       "22                           Nuli Sapi  \n",
       "26                      Pension Maro'i  \n",
       "29                 Pousada Porto Praia  "
      ],
      "text/html": "<div>\n<style scoped>\n    .dataframe tbody tr th:only-of-type {\n        vertical-align: middle;\n    }\n\n    .dataframe tbody tr th {\n        vertical-align: top;\n    }\n\n    .dataframe thead th {\n        text-align: right;\n    }\n</style>\n<table border=\"1\" class=\"dataframe\">\n  <thead>\n    <tr style=\"text-align: right;\">\n      <th></th>\n      <th>City</th>\n      <th>Country</th>\n      <th>Max Temp</th>\n      <th>Lat</th>\n      <th>Lng</th>\n      <th>Hotel Name</th>\n    </tr>\n  </thead>\n  <tbody>\n    <tr>\n      <th>1</th>\n      <td>Butaritari</td>\n      <td>KI</td>\n      <td>82.08</td>\n      <td>3.0707</td>\n      <td>172.7902</td>\n      <td>Isles Sunset Lodge</td>\n    </tr>\n    <tr>\n      <th>4</th>\n      <td>Kribi</td>\n      <td>CM</td>\n      <td>81.07</td>\n      <td>2.9500</td>\n      <td>9.9167</td>\n      <td>Les Vagues bleues</td>\n    </tr>\n    <tr>\n      <th>13</th>\n      <td>Meadow Lake</td>\n      <td>US</td>\n      <td>75.00</td>\n      <td>34.8014</td>\n      <td>-106.5436</td>\n      <td>JKL Inc. R.V Park and Storage</td>\n    </tr>\n    <tr>\n      <th>16</th>\n      <td>Jamkhed</td>\n      <td>IN</td>\n      <td>83.62</td>\n      <td>18.7362</td>\n      <td>75.3121</td>\n      <td>Beleshwar coffee center</td>\n    </tr>\n    <tr>\n      <th>18</th>\n      <td>Puerto Ayora</td>\n      <td>EC</td>\n      <td>81.00</td>\n      <td>-0.7393</td>\n      <td>-90.3518</td>\n      <td>Finch Bay Galapagos Hotel</td>\n    </tr>\n    <tr>\n      <th>20</th>\n      <td>Mahebourg</td>\n      <td>MU</td>\n      <td>77.00</td>\n      <td>-20.4081</td>\n      <td>57.7000</td>\n      <td>Shandrani Beachcomber Resort &amp; Spa</td>\n    </tr>\n    <tr>\n      <th>21</th>\n      <td>Mar Del Plata</td>\n      <td>AR</td>\n      <td>75.20</td>\n      <td>-38.0023</td>\n      <td>-57.5575</td>\n      <td>Gran Hotel Mar del Plata</td>\n    </tr>\n    <tr>\n      <th>22</th>\n      <td>Samarai</td>\n      <td>PG</td>\n      <td>79.74</td>\n      <td>-10.6167</td>\n      <td>150.6667</td>\n      <td>Nuli Sapi</td>\n    </tr>\n    <tr>\n      <th>26</th>\n      <td>Rikitea</td>\n      <td>PF</td>\n      <td>77.86</td>\n      <td>-23.1203</td>\n      <td>-134.9692</td>\n      <td>Pension Maro'i</td>\n    </tr>\n    <tr>\n      <th>29</th>\n      <td>Arraial Do Cabo</td>\n      <td>BR</td>\n      <td>80.60</td>\n      <td>-22.9661</td>\n      <td>-42.0278</td>\n      <td>Pousada Porto Praia</td>\n    </tr>\n  </tbody>\n</table>\n</div>"
     },
     "metadata": {},
     "execution_count": 15
    }
   ],
   "source": [
    "# Check df for appended hotels\n",
    "hotel_df.head(10)"
   ]
  },
  {
   "cell_type": "code",
   "execution_count": 16,
   "metadata": {},
   "outputs": [],
   "source": [
    "info_box_template = '''\n",
    "<dl>\n",
    "<dt>Hotel Name</dt><dd>{Hotel Name}</dd>\n",
    "<dt>City</dt><dd>{City}</dd>\n",
    "<dt>Country</dt><dd>{Country}</dd>\n",
    "<dt>Max Temp</dt><dd>{Max Temp} °F</dd>\n",
    "</dl>\n",
    "'''"
   ]
  },
  {
   "cell_type": "code",
   "execution_count": 17,
   "metadata": {},
   "outputs": [],
   "source": [
    "# Store the df row\n",
    "hotel_info = [info_box_template.format(**row) for index, row in hotel_df.iterrows()]"
   ]
  },
  {
   "cell_type": "code",
   "execution_count": 18,
   "metadata": {},
   "outputs": [
    {
     "output_type": "display_data",
     "data": {
      "text/plain": "Figure(layout=FigureLayout(height='420px'))",
      "application/vnd.jupyter.widget-view+json": {
       "version_major": 2,
       "version_minor": 0,
       "model_id": "4f51489f229e44cfb34a2fa9a9c2c15f"
      }
     },
     "metadata": {}
    }
   ],
   "source": [
    "# Add heatmap of temperature for the vacation spots and a marker for each city\n",
    "locations = hotel_df[['Lat', 'Lng']]\n",
    "max_temp = hotel_df['Max Temp']\n",
    "fig = gmaps.figure(center=(30.0, 31.0), zoom_level=1.5)\n",
    "heat_layer = gmaps.heatmap_layer(locations,\n",
    "                                 weights=max_temp,\n",
    "                                 dissipating=False,\n",
    "                                 max_intensity=300,\n",
    "                                 point_radius=4)\n",
    "\n",
    "marker_layer = gmaps.marker_layer(locations, info_box_content=hotel_info)\n",
    "fig.add_layer(heat_layer)\n",
    "fig.add_layer(marker_layer)\n",
    "\n",
    "# Call figure\n",
    "fig"
   ]
  },
  {
   "cell_type": "code",
   "execution_count": null,
   "metadata": {},
   "outputs": [],
   "source": []
  },
  {
   "cell_type": "code",
   "execution_count": null,
   "metadata": {},
   "outputs": [],
   "source": []
  }
 ],
 "metadata": {
  "kernelspec": {
   "name": "pythondata",
   "display_name": "Python 3.7.9 64-bit ('PythonData': conda)"
  },
  "language_info": {
   "codemirror_mode": {
    "name": "ipython",
    "version": 3
   },
   "file_extension": ".py",
   "mimetype": "text/x-python",
   "name": "python",
   "nbconvert_exporter": "python",
   "pygments_lexer": "ipython3",
   "version": "3.7.9-final"
  },
  "metadata": {
   "interpreter": {
    "hash": "cde3e89a557c46231f8d7b996aefd592c8a14cc08d4c94faa8758a36e2ea75ba"
   }
  }
 },
 "nbformat": 4,
 "nbformat_minor": 2
}